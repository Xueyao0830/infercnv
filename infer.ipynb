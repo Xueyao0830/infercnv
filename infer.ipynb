{
 "cells": [
  {
   "cell_type": "code",
   "execution_count": 1,
   "id": "8046b50d-1384-443c-b057-5847ee4f1b26",
   "metadata": {
    "tags": []
   },
   "outputs": [],
   "source": [
    "import numpy as np\n",
    "import pandas as pd\n",
    "import anndata\n",
    "import scanpy as sc\n",
    "import matplotlib.pyplot as plt\n",
    "from scipy.sparse import csr_matrix"
   ]
  },
  {
   "cell_type": "code",
   "execution_count": 6,
   "id": "da3e8789",
   "metadata": {},
   "outputs": [],
   "source": [
    "adata_path = ''\n",
    "matrix_path = ''\n",
    "annotation_path = ''\n",
    "geneorder_path = ''\n"
   ]
  },
  {
   "cell_type": "code",
   "execution_count": null,
   "id": "c41e9ad8",
   "metadata": {},
   "outputs": [],
   "source": [
    "adata = sc.read_h5ad(adata_path)"
   ]
  },
  {
   "attachments": {},
   "cell_type": "markdown",
   "id": "aec42f8a",
   "metadata": {},
   "source": [
    "## 1. the raw_counts_matrix"
   ]
  },
  {
   "cell_type": "code",
   "execution_count": 18,
   "id": "5257712b-68a6-4ee5-b6fd-6d164984ee59",
   "metadata": {
    "tags": []
   },
   "outputs": [],
   "source": [
    "raw_matrix = adata.X.todense()\n",
    "raw_matrix = pd.DataFrame(raw_matrix)"
   ]
  },
  {
   "cell_type": "code",
   "execution_count": null,
   "id": "06c728e8-f1e1-47c4-a75f-4ae4d7551ddf",
   "metadata": {
    "tags": []
   },
   "outputs": [],
   "source": [
    "# set the index and columns\n",
    "gene_names = adata.var.index.to_list()\n",
    "cell_names = adata.obs.index.to_list()\n",
    "\n",
    "raw_matrix.index = cell_names\n",
    "raw_matrix.columns = gene_names"
   ]
  },
  {
   "cell_type": "code",
   "execution_count": null,
   "id": "0ca7790c",
   "metadata": {},
   "outputs": [],
   "source": [
    "#save the matrix file\n",
    "raw_matrix.to_csv(matrix_path,sep = '\\t', index=True)"
   ]
  },
  {
   "attachments": {},
   "cell_type": "markdown",
   "id": "d4023309",
   "metadata": {},
   "source": [
    "## 2. the annotations"
   ]
  },
  {
   "cell_type": "code",
   "execution_count": 32,
   "id": "173de4dc-f9e9-4444-accf-f114b58c2074",
   "metadata": {
    "tags": []
   },
   "outputs": [],
   "source": [
    "annotations = adata.obs['annotation']\n",
    "annotation.to_csv(annotation_path, sep = '\\t', index=True, header = False)"
   ]
  },
  {
   "attachments": {},
   "cell_type": "markdown",
   "id": "ab141a08",
   "metadata": {},
   "source": [
    "## 3. gene_order_file"
   ]
  },
  {
   "cell_type": "code",
   "execution_count": null,
   "id": "155c760a-5ea7-4d45-a8b7-415e7e1d1c84",
   "metadata": {
    "tags": []
   },
   "outputs": [],
   "source": [
    "gene_order = read.csv(geneorder_path,header = FALSE,sep = '\\t',)"
   ]
  }
 ],
 "metadata": {
  "kernelspec": {
   "display_name": "bioinfo",
   "language": "python",
   "name": "python3"
  },
  "language_info": {
   "codemirror_mode": {
    "name": "ipython",
    "version": 3
   },
   "file_extension": ".py",
   "mimetype": "text/x-python",
   "name": "python",
   "nbconvert_exporter": "python",
   "pygments_lexer": "ipython3",
   "version": "3.11.3"
  },
  "vscode": {
   "interpreter": {
    "hash": "8b5abb3aa1d4302b509311a4981a928c947a23694a10475bf054b944f8352016"
   }
  }
 },
 "nbformat": 4,
 "nbformat_minor": 5
}
